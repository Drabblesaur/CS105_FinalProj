{
 "cells": [
  {
   "cell_type": "markdown",
   "metadata": {},
   "source": [
    "# CS105 Final Project\n",
    "Group Members: August Bennett, Jalen Shen, Johnny To, Justin Ly\n",
    "## Dataset\n",
    "https://www.icpsr.umich.edu/web/NACJD/studies/27521\n",
    "\n",
    "NOTE: Dataset is VERY Large (~3000) variables.\n",
    "### Inital Features\n",
    "These were the features selected to be possibly useful for us to make our classification model.\n",
    "| Variable Name \t| Description                                       \t|\n",
    "|---------------\t|---------------------------------------------------\t|\n",
    "| NODR30A       \t| USUAL # OF DRINKS PER DAY PAST 30 DAYS            \t|\n",
    "| RK5ALWK       \t| RISK HAVING 5 OR MORE DRINKS ONCE OR TWICE A WEEK \t|\n",
    "| GRSKD4_5      \t| GREAT RISK: HAVE 4-5 ALC DRINKS PER DAY           \t|\n",
    "| ALCPHCTD      \t| CONTD TO DRINK ALC DESPITE PHYS PRBS              \t|\n",
    "| ALCEMCTD      \t| CONTD TO DRINK ALC DESPITE EMOT PRBS              \t|\n",
    "| ALCFMCTD      \t| CONTD TO DRINK ALC DESPITE PRBS W/ FAM/FRNDS      \t|\n",
    "| TXYRINAD      \t| RES ALC/DRG REH TRMT FOR ALC, DRUGS, OR BOTH      \t|\n",
    "| TXILALEV      \t| RECEIVED TREATMENT FOR DRG OR ALC USE IN LIFETIME \t|\n",
    "| GENDER_R      \t|  MALE (& FEMALE)                                  \t|\n",
    "| AGE_YRS       \t| AGE IN YEARS RECODE                               \t|\n",
    "| ALCTRY        \t| AGE WHEN FIRST DRANK ALCOHOLIC BEVERAGE           \t|\n",
    "| ALCREC        \t| TIME SINCE LAST DRANK ALCOHOLIC BEVERAGE          \t|\n",
    "| ALCYRTOT      \t| TOTAL # OF DAYS USED ALCOHOL IN PAST 12 MOS       \t|\n",
    "| IRALCFY       \t| ALCOHOL FREQUENCY PAST YEAR - IMPUTATION REVISED  \t|\n",
    "| TOTDRINK      \t| TOTAL # OF DAYS USED ALCOHOL IN PAST 12 MOS       \t|\n",
    "| TXEVER        \t| EVER RECEIVED ALCOHOL OR DRUG TREATMENT           \t|\n",
    "| ALLARRST      \t| ANY ARREST                                        \t|\n",
    "| ALCYDAYS      \t| # OF DAYS USED ALCOHOL IN PAST YEAR               \t|\n",
    "\n",
    "After researching and using the user guide that was given to us via the study we revised our features. The main reason was some features that we selected were missing a large amount of responses. (some participants may have decided to skip the question). Below is the revised feature list.\n",
    "| Variable Name \t| Description                                       \t|\n",
    "|---------------\t|---------------------------------------------------\t|\n",
    "| NODR30A       \t| USUAL # OF DRINKS PER DAY PAST 30 DAYS            \t|\n",
    "| ALCTRY        \t| AGE WHEN FIRST DRANK ALCOHOLIC BEVERAGE           \t|\n",
    "| ALCREC        \t| TIME SINCE LAST DRANK ALCOHOLIC BEVERAGE          \t|\n",
    "| IRALCFY       \t| ALCOHOL FREQUENCY PAST YEAR - IMPUTATION REVISED  \t|\n",
    "| TOTDRINK      \t| TOTAL # OF DAYS USED ALCOHOL IN PAST 12 MOS       \t|\n",
    "| ALCYDAYS      \t| # OF DAYS USED ALCOHOL IN PAST YEAR               \t|\n",
    "| IRSEX          \t| GENDER                                            \t|\n",
    "| AGE_YRS       \t| AGE IN YEARS RECODE                               \t|\n",
    "| BOOKED      \t    | EVER ARRESTED AND BOOKED FOR BREAKING THE LAW         |\n",
    "\n",
    "These new variables were cleaned and made into a new file called cs105_dataset.csv\n",
    "\n"
   ]
  },
  {
   "cell_type": "markdown",
   "metadata": {},
   "source": []
  }
 ],
 "metadata": {
  "language_info": {
   "name": "python"
  }
 },
 "nbformat": 4,
 "nbformat_minor": 2
}
